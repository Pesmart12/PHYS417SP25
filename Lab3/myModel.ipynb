{
 "cells": [
  {
   "cell_type": "code",
   "execution_count": null,
   "metadata": {},
   "outputs": [],
   "source": [
    "import torch\n",
    "import torch.nn.functional\n",
    "\n",
    "class myModel(torch.nn.Module):\n",
    "    def __init__(self, input_dim, neurons, output_dim):\n",
    "        \n",
    "        super(myModel, self).__init__()\n",
    "        #2 hidden layers\n",
    "        self.layer1 = torch.nn.Linear(input_dim, neurons)\n",
    "        self.layer2 = torch.nn.Linear(input_dim, neurons)\n",
    "        #output layer\n",
    "        self.output = torch.nn.Linear(input_dim, output_dim)\n",
    "        self.dropout = nn.Dropout(0.5)\n",
    "\n",
    "    def forward(self, x):\n",
    "        x = torch.nn.functional.relu(self.fc1(x))    \n",
    "        x = self.dropout(x)         \n",
    "        x = torch.nn.functional.relu(self.fc2(x))     \n",
    "        x = self.fc3(x)            \n",
    "        return x"
   ]
  }
 ],
 "metadata": {
  "kernelspec": {
   "display_name": "base",
   "language": "python",
   "name": "python3"
  },
  "language_info": {
   "name": "python",
   "version": "3.12.3"
  }
 },
 "nbformat": 4,
 "nbformat_minor": 2
}
